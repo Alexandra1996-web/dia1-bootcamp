{
 "cells": [
  {
   "cell_type": "markdown",
   "metadata": {},
   "source": [
    "# Día 1"
   ]
  },
  {
   "cell_type": "markdown",
   "metadata": {},
   "source": [
    "# Introducción"
   ]
  },
  {
   "cell_type": "markdown",
   "metadata": {},
   "source": [
    "## 💻🦾 Qué son las computadoras\n",
    "\n",
    "Una computadora es una máquina digital programable, de funcionamiento electrónico, capaz de procesar grandes cantidades de datos a grandes velocidades.\n",
    "\n",
    "- 👉Donde la parte física y tangible del sistema, o sea, sus componentes eléctricos y electrónicos se denomina hardware, \n",
    "- 👉 Y la parte intangible, digital y abstracta, logicamente programable se denomica software. \n",
    "\n"
   ]
  },
  {
   "cell_type": "markdown",
   "metadata": {},
   "source": [
    "## 💻 Qué es un lenguaje de programación 💻\n",
    "\n",
    "- 👉 Se podria decir que un lenguaje de programacion que es como una forma de comunicarnos con la computadora y decirle que queremos hacer, siendo la sintaxis como un conjunto de reglas que nos permite comunicarnos con la computadora y que varia de a acuerdo a cada lenguaje. "
   ]
  },
  {
   "cell_type": "markdown",
   "metadata": {},
   "source": [
    "   ## 🐍Qué es Python 🐍\n",
    "\n",
    "_Explicacion:_\n",
    "\n",
    "\n",
    "Es un lenguaje de programación de sintaxis sencilla, amigable y trata de parecerse en lo mayor posible al lenguaje humano.\n",
    "Como está escrito en inglés, es más parecido a ese idioma, por lo que en sus caracteristicas radican las ventajas en comparacion a otros lenguajes de programacion.\n",
    "\n",
    "\n",
    "\n"
   ]
  },
  {
   "cell_type": "markdown",
   "metadata": {},
   "source": [
    "Por qué Python y no otros lenguajes para iniciar "
   ]
  },
  {
   "cell_type": "markdown",
   "metadata": {},
   "source": [
    "### ¿Qué diferencia a Phyton de otros lenguajes de programación?\n",
    "\n",
    "- 👉 Tiene una de las sintaxis más simples.\n",
    "- 👉 Es un lenguaje interpretado, no compilado.\n",
    "- 👉 Ausencia de paréntesis.\n",
    "- 👉 No utiliza punto y coma al final de cada instrucción.\n",
    "- 👉 No es necesario declarar variables. \n",
    "- 👉 Lenguaje de tipado dinámico y fuerte \n"
   ]
  },
  {
   "cell_type": "markdown",
   "metadata": {},
   "source": [
    "### Links de interés:\n",
    "\n",
    "- 👉 ¿Qué es una computadora? https://concepto.de/computadora/#ixzz5o9FYXqT8\n",
    "\n",
    "- 👉 Algoritmos https://es.wikipedia.org/wiki/Algoritmo \n",
    "\n",
    "- 👉 Lenguaje de programación https://conogasi.org/articulos/lenguaje-de-programacion/ \n",
    "\n",
    "- 👉 Lenguajes de programación más utilizados https://www.marketingandweb.es/marketing/lenguajes-de-programacion-mas-usados"
   ]
  },
  {
   "cell_type": "markdown",
   "metadata": {},
   "source": [
    "## Primer encuentro con Python: Hello World! - 20m"
   ]
  },
  {
   "cell_type": "code",
   "execution_count": 6,
   "metadata": {},
   "outputs": [
    {
     "name": "stdout",
     "output_type": "stream",
     "text": [
      "Hola mundo!\n",
      "Hello World\n",
      "Hola mundo Hello World Maitei arapy\n"
     ]
    }
   ],
   "source": [
    "\n",
    "\n",
    "#11:30 es el horario de la cocina de la degustacion \n",
    "\n",
    "print(\"Hola mundo!\") #esta es nuestra primera linea de codigo en python \n",
    "\n",
    "#🙌 Explicar uso de las comillas que pueden ser comillas simples o dobles y que estos son datos tipo texto\n",
    "#🙌 Explicar que el print no es para ejecutar algo y no es necesario en todos los casos\n",
    "\n",
    "\n",
    "#Ahora vamos a hacerlo en Ingles, en vez de Hola mundo vamos a poner Hello world \n",
    "\n",
    "print('Hello World') \n",
    "\n",
    "print('Hola mundo', 'Hello World',  'Maitei arapy') #🙌 Explicar que se pueden imprimir varias cosas separadas por comas y que se imprimen en el mismo renglon \n",
    "\n",
    "# Print es una función, concepto que vamos a ver más adelante, que cuando print() incluye una expresión, esta es evaluada antes de ser presentada en pantalla. \n",
    "#Print() puede imprimir en pantalla varias expresiones separadas por comas o a través de las cadenas 'f'.\n",
    "\n",
    "\n",
    "#Aplauso de ahora ya son programadores, juhuuu\n",
    "#Implementacion de Discord y poner pinguino a todo el mundo\n",
    "\n",
    "#dependenciade kernel buscar\n"
   ]
  },
  {
   "cell_type": "markdown",
   "metadata": {},
   "source": [
    "# Variables - 2h 50m"
   ]
  },
  {
   "cell_type": "markdown",
   "metadata": {},
   "source": [
    "## Definición de variables - 15m\n",
    "\n",
    "Las variables son espacios en memoria de la computadora en los cuales podemos guardar datos durante la ejecución de nuestro programa.\n",
    "\n",
    "*__Explicar la ejecución__*\n",
    "\n",
    "A estos espacios les podemos poner nombres por medio de los cuales podemos acceder más tarde a los valores que contienen.\n",
    "\n",
    "*__Pasar al ejemplo__:*  \n",
    "\n"
   ]
  },
  {
   "cell_type": "code",
   "execution_count": null,
   "metadata": {},
   "outputs": [],
   "source": [
    "#🙌 PONER CRONOMETRO \n",
    "\n",
    "#🙌Hacer un ejemplo de definicion de variables y que se puede hacer con ellas\n",
    "\n",
    "#Ejemplo: \n",
    "\n",
    "#Creemos una variable saludo y le asignaamos el valor Hola Mundo \n",
    "\n",
    "saludo = 'Hola mundo' \n",
    "\n",
    "#Ahora saludo toma el valor de Hola Mundo, y podemos imprimirlo en pantalla \n",
    "\n",
    "print(saludo) #Que les parece que va a imprimir en pantalla pues el valor 'Hola Mundo'  \n",
    "\n",
    "''' Entre las buenas practicas para nombrar variables en python tenemos:\n",
    "\n",
    "- usar minusculas \n",
    "- separar las palabras por guiones bajos \n",
    "- no usar palabras reservadas como nombres de variables que mas adelante vamos a ver que son las palabras y cuales son\n",
    "- a la forma de nombrar variales en python se le llama snake_case ''' \n",
    "\n",
    "\n"
   ]
  },
  {
   "cell_type": "markdown",
   "metadata": {},
   "source": [
    "\n",
    "## Orden de ejecución - 10m\n",
    "\n",
    "Python se ejecuta línea por línea.\n",
    "Todos los comandos se ejecutan en el orden en que se escriben.\n"
   ]
  },
  {
   "cell_type": "code",
   "execution_count": 13,
   "metadata": {},
   "outputs": [
    {
     "name": "stdout",
     "output_type": "stream",
     "text": [
      "naranjas\n",
      "4\n",
      "banana\n"
     ]
    }
   ],
   "source": [
    "#Ahora hablemos de la ejeucion de python, esta es linea pueden ver si escribimos fruta y le asignamos le valor naranjas\n",
    "\n",
    "fruta = \"naranjas\"\n",
    "print(fruta)\n",
    "cantidad_de_frutas = 4\n",
    "print(cantidad_de_frutas)\n",
    "fruta = \"banana\"\n",
    "print(fruta)\n",
    "\n",
    "#🙌 Explicar que el # es para comentarios\n",
    "#🙌 Explicar que el ''' es para comentarios multilinea ''' \n"
   ]
  },
  {
   "cell_type": "markdown",
   "metadata": {},
   "source": [
    "## Tipos de datos - 15m\n",
    "\n",
    "Así como los textos, también podemos almacenar otros tipos de datos.\n",
    "Textos, números, decimales, booleanos/lógicos.\n"
   ]
  },
  {
   "cell_type": "code",
   "execution_count": 4,
   "metadata": {},
   "outputs": [
    {
     "name": "stdout",
     "output_type": "stream",
     "text": [
      "<class 'int'>\n",
      "<class 'int'>\n",
      "30\n",
      "1000\n",
      "gaseosa\n",
      "True\n",
      "False\n"
     ]
    }
   ],
   "source": [
    "\n",
    "''' Seguimos con el ejercicio de que estamos en un tienda, y vamos a tocar como tema los tipos de datos''' \n",
    "\n",
    "#Supongamos que tenemos una variable llamada producto y le asignamos el valor 'manzanas'\n",
    "\n",
    "producto = 'manzanas' #🙌 Explicar que producto es una variable y que es un dato tipo texto \n",
    "print(producto)\n",
    "#Ahora queremos preguntarle al duenho de la tienda la cantidad de productos que tenemos en stock, \n",
    "# y le asignamos el valor 30\n",
    "\n",
    "cantidad_de_productos = 30 # Número entero -> integer -> int\n",
    "print(cantidad_de_frutas)\n",
    "#supongamos que tenemos una variable que se llama precio y le asignamos el valor 1000 \n",
    "\n",
    "precio = 1000 # Número entero -> integer -> int \n",
    "print(precio)\n",
    "#supongamos que tenemos una variable que se llama peso y le asignamos el valor 3.99 este es el peso de nuestras manzanas\n",
    "\n",
    "peso = 3.99 # Número decimal -> floating numbers -> float\n",
    "print(peso)\n",
    "\n",
    "producto = \"gaseosa\" # Texto -> strings -> str se reasigna el valor a la variable producto, si no queremos reasignar el valor a la variable producto, creamos producto2 = \"gaseosa\"\n",
    "\n",
    "#ahora vamos a ver si esta abierta la tienda, lo boleanos son muy similares a un Si y un No \n",
    "\n",
    "esta_abierta_sabado = True # Boolean -> bool\n",
    "esta_abierta_feriado = False # Boolean -> bool\n",
    "\n",
    "#Otro ejemplo posible de variable es el siguiente\n",
    "es_viernes = False # Boolean -> bool\n",
    "es_miercoles = True # Boolean -> bool\n",
    "\n",
    "\n",
    "print(cantidad_de_productos)\n",
    "print(precio)\n",
    "print(producto)\n",
    "print(esta_abierta_sabado)\n",
    "print(esta_abierta_feriado)\n",
    "\n",
    "# Hablar sobre snake_case y naming de variables (es_x, esta_x, etc)\n",
    "# Mencionar que se va a crear un nuevo bloque (en el siguiente)\n",
    "# Podemos ver el tipo de dato utilizando la funcion type('Hola') \n",
    "#Tipo de dato pagina interesante https://j2logo.com/python/tutorial/tipos-de-datos-basicos-de-python/#tipos-datos-numericos\n",
    "\n",
    "\n",
    "#Si queremos algo mas visual ahora vemos \n",
    "\n",
    "print(type(cantidad_de_productos)) #la variable tomo el valor de 30 y es un dato tipo entero\n",
    "print(type(30)) \n",
    "#🙌 Explicar que type es una funcion que nos dice el tipo de dato de una variable, \n",
    "# se puede aplicar a la variable directo o a un valor directo "
   ]
  },
  {
   "cell_type": "markdown",
   "metadata": {},
   "source": [
    "## Operaciones aritméticas / con variables - 15m\n",
    "\n",
    "También podemos realizar operaciones matemáticas, como en las calculadoras."
   ]
  },
  {
   "cell_type": "code",
   "execution_count": 7,
   "metadata": {},
   "outputs": [
    {
     "name": "stdout",
     "output_type": "stream",
     "text": [
      "24\n",
      "0\n",
      "36\n",
      "5.5\n",
      "9.0\n",
      "9.0\n",
      "16.0\n"
     ]
    }
   ],
   "source": [
    "#Python puede realizar operaciones matematicas como una calculadora, para visualizar vamos a usar la funcion print()\n",
    "#Utilizamos el print para poder ver el resultado de la operacion\n",
    "\n",
    "# Suma\n",
    "print(7 + 8 + 9)\n",
    "\n",
    "# Resta\n",
    "print(10 - 10)\n",
    "\n",
    "# Multiplicacion\n",
    "print(12 * 3)\n",
    "\n",
    "# Division\n",
    "print(11 / 2)\n",
    "\n",
    "# Python obedece a la regla matemática de la precedencia de operadores que dice: \n",
    "\n",
    "# 1. Los paréntesis tienen la mayor precedencia y pueden usarse para forzar un orden.\n",
    "# 2. La siguiente precedencia la tienen las multiplicaciones y divisiones.\n",
    "# 3. La siguiente precedencia la tienen las sumas y restas.\n",
    "# 4. Los operadores con la misma precedencia se evalúan de izquierda a derecha (de arriba hacia abajo para operadores en una misma línea).\n",
    "\n",
    "# Ejemplo de precedencia de operadores\n",
    "print(2 + 3 * 4) # 14\n",
    "\n",
    "#Otro ejemplo \n",
    "\n",
    "print(2 * 2 + 12 / 2 - 1)\n",
    "\n",
    "# Obs.: Podemos usar paréntesis para modificar la precedencia de operadores, asi mismo como en las matematicas\n",
    "\n",
    "print((2 * 2) + (12 / 2) - 1) #observacion al usar parentesis siempre cerrarlos y no confundir con los del print. Orden normal de operacion en la prelacion de operadores\n",
    "\n",
    "print((2 * 2) + 12 / (2 - 1)) #aqui se ejecuta primero la resta del 2-1 y luego la division del 12/1 \n",
    "\n",
    "\n",
    "#🙌 Explicar que la division siempre va a dar un numero decimal, para que no de un numero decimal podemos usar el operador // que es la division entera * esto no mencionar solo para saber que existe  \n",
    "\n"
   ]
  },
  {
   "cell_type": "code",
   "execution_count": 9,
   "metadata": {},
   "outputs": [
    {
     "name": "stdout",
     "output_type": "stream",
     "text": [
      "15000\n",
      "10000\n",
      "4500\n",
      "7250\n",
      "9.0\n"
     ]
    }
   ],
   "source": [
    "#Ahora podemos hacer esto mismo pero con los datos almacenados en variables, considerando el caso de la tienda de frutas\n",
    "\n",
    "# Suma de frutas en stock \n",
    "\n",
    "manzanas = 7000\n",
    "peras = 3000\n",
    "naranjas = 5000 \n",
    "\n",
    "precio_total_compra = manzanas + peras + naranjas # En gs (guaranies) -> suma\n",
    "print(precio_total_compra) # imprimimos/mostramos el resultado en la pantalla, el resultado se almacena en la variable precio_total y esta se muestra mediante el print\n",
    "\n",
    "# Ahora supongamos que el duenho del a tienda nos aplica un descuento, esta operacion seria la Resta aplicando una diferencia respecto al precio total de las compras realizado en compra \n",
    "total_con_descuento = precio_total_compra - 5000  # un descuento -> resta\n",
    "print(total_con_descuento) # imprimimos/mostramos el resultado en la pantalla\n",
    "\n",
    "# Multiplicación\n",
    "precio_banana_unitario = 1500\n",
    "cantidad_de_bananas = 3\n",
    "total_costo_bananas = precio_banana_unitario * cantidad_de_bananas # En gs (guaraníes) -> multiplicación \n",
    "print(total_costo_bananas) # imprimimos/mostramos el resultado en la pantalla\n",
    "\n",
    "#Ahora al precio total de compras le agregamos el costo total de las bananas \n",
    "\n",
    "\n",
    "actualizacion_costo_total = total_con_descuento + total_costo_bananas # En gs (guaraníes) -> suma\n",
    "\n",
    "# Ahora queremos dividir el costo entre las personsa que van a consumir la ensalada de frutas, entonces tenemos que aplicar la División\n",
    "cantidad_de_personas = 2\n",
    "vaquita_gastos = actualizacion_costo_total // cantidad_de_personas # En dolares -> división\n",
    "print(vaquita_gastos) # imprimimos/mostramos el resultado en la pantalla\n",
    "\n",
    "# Obs.: Python obedece a la regla matemática de la precedencia de operadores\n",
    "print(2 * 2 + 12 / 2 - 1)\n",
    "\n"
   ]
  },
  {
   "cell_type": "markdown",
   "metadata": {},
   "source": [
    "## Challenge 🤺 - 15m\n",
    "\n",
    "Suma: asignar dos números en dos variables diferentes `cantidad_de_manzanas` y `cantidad_de_naranjas`. Luego sumar ambas variables en `cantidad_de_frutas`. Imprimir la última variable.\n",
    "\n",
    "Resta: asignar un valor numérico a la variable `frutas_vendidas`. Luego, asignar la resta entre `cantidad_de_frutas` y `frutas_vendidas` a la variable `frutas_restantes`. Imprimir la última variable."
   ]
  },
  {
   "cell_type": "code",
   "execution_count": 9,
   "metadata": {},
   "outputs": [
    {
     "name": "stdout",
     "output_type": "stream",
     "text": [
      "18\n",
      "13\n"
     ]
    }
   ],
   "source": [
    "# Suma (ejercicio)\n",
    "\n",
    "cantidad_de_manzanas = 8\n",
    "cantidad_de_naranjas = 10\n",
    "cantidad_de_frutas = cantidad_de_manzanas + cantidad_de_naranjas\n",
    "\n",
    "print(cantidad_de_frutas)\n",
    "\n",
    "# Resta (ejercicio)\n",
    "\n",
    "frutas_vendidas = 5\n",
    "frutas_restantes = cantidad_de_frutas - frutas_vendidas\n",
    "\n",
    "print(frutas_restantes)"
   ]
  },
  {
   "cell_type": "markdown",
   "metadata": {},
   "source": [
    "## Socialización - 10m"
   ]
  },
  {
   "cell_type": "markdown",
   "metadata": {},
   "source": [
    "## Jugando con texto - 15m\n",
    "\n",
    "Las comillas simples y dobles representan lo mismo.\n",
    "Lo importante es que tenemos que cerrar con el mismo tipo de comillas que abrimos."
   ]
  },
  {
   "cell_type": "code",
   "execution_count": 10,
   "metadata": {},
   "outputs": [
    {
     "name": "stdout",
     "output_type": "stream",
     "text": [
      "Claudia\n",
      "Melgarejo\n",
      "ClaudiaMelgarejo\n",
      "Claudia Melgarejo\n",
      "hola, mi nombre es Claudia Melgarejo\n",
      "hola, mi nombre es Claudia Melgarejo\n"
     ]
    }
   ],
   "source": [
    "# Preguntar si podemos sumar textos (concatenación)\n",
    "\n",
    "#Para usar la concatenacion podemos usar el signo + para unir dos cadenas de texto \n",
    "\n",
    "nombre = 'Claudia'\n",
    "apellido = \"Melgarejo\"\n",
    "\n",
    "print(nombre)\n",
    "print(apellido)\n",
    "\n",
    "print(nombre + apellido) #concatenacion \n",
    "\n",
    "\n",
    "# Textos + Variables(str)\n",
    "print(nombre + \" \" + apellido)\n",
    "print(\"hola, mi nombre es \" + nombre + \" \" + apellido)\n",
    "# agregar el print con la f \n",
    "print(f\"hola, mi nombre es {nombre} {apellido}\")\n",
    "\n",
    "# Esto es lo mismo que lo anterior pero con el metodo format "
   ]
  },
  {
   "cell_type": "markdown",
   "metadata": {},
   "source": [
    "## Challenge 🤺 - 15m\n",
    "\n",
    "Asignar el nombre y el apellido de tu compañera/o a las variables nombre y apellido. Luego, imprimir una frase, utilizando las variables.\n",
    "EJEMPLO: \"Hola. Me llamo Claudia Melgarejo. Mucho gusto.\""
   ]
  },
  {
   "cell_type": "code",
   "execution_count": 16,
   "metadata": {},
   "outputs": [
    {
     "name": "stdout",
     "output_type": "stream",
     "text": [
      "Hola. Mi nombre es Juan Perez, Mucho gusto.\n"
     ]
    }
   ],
   "source": [
    "nombre = \"Juan\"\n",
    "apellido = \"Perez\"\n",
    "# Podemos sumar textos + variables del mismo tipo\n",
    "print(f\"Hola. Mi nombre es {nombre} {apellido}, Mucho gusto.\")"
   ]
  },
  {
   "cell_type": "markdown",
   "metadata": {},
   "source": [
    "## Socialización - 10m"
   ]
  },
  {
   "cell_type": "markdown",
   "metadata": {},
   "source": [
    "## Obteniendo datos del usuario - 1h"
   ]
  },
  {
   "cell_type": "markdown",
   "metadata": {},
   "source": [
    "### Definición - 15m\n",
    "\n",
    "Hasta ahora nuestros ejemplos fueron de programas que se ejecutan y ya. Pero ¿qué pasa si queremos que el usuario pueda ingresar datos?\n",
    "\n",
    "Aunque __no siempre es necesario__. A veces solo queremos ejecutar una serie de comandos, como en los ejemplos anteriores."
   ]
  },
  {
   "cell_type": "code",
   "execution_count": 9,
   "metadata": {},
   "outputs": [
    {
     "name": "stdout",
     "output_type": "stream",
     "text": [
      "huevi\n",
      "5\n"
     ]
    }
   ],
   "source": [
    "# Solicitar un producto\n",
    "un_producto = input(\"Que producto desea?\")\n",
    "print(un_producto)\n",
    "\n",
    "# Solicitar la cantidad de de unidades que quiere el cliente\n",
    "cantidad_de_unidades = input(\"Cuántas unidades desea? \")\n",
    "print(cantidad_de_unidades)"
   ]
  },
  {
   "cell_type": "markdown",
   "metadata": {},
   "source": [
    "### Ejemplos de operaciones con datos ingresados - 10m"
   ]
  },
  {
   "cell_type": "code",
   "execution_count": 10,
   "metadata": {},
   "outputs": [
    {
     "name": "stdout",
     "output_type": "stream",
     "text": [
      "Quisiera comprar huevi Podria darme 5 unidades?\n"
     ]
    }
   ],
   "source": [
    "print(f'Quisiera comprar {un_producto} Podria darme {cantidad_de_unidades} unidades?')"
   ]
  },
  {
   "cell_type": "markdown",
   "metadata": {},
   "source": [
    "### Identificar el tipo de dato de una variable - 10m"
   ]
  },
  {
   "cell_type": "code",
   "execution_count": 17,
   "metadata": {},
   "outputs": [
    {
     "name": "stdout",
     "output_type": "stream",
     "text": [
      "un_producto:\n",
      "<class 'str'>\n",
      "cantidad_de_unidades:\n",
      "<class 'str'>\n"
     ]
    }
   ],
   "source": [
    "print('un_producto:')\n",
    "print(type(un_producto))\n",
    "print('cantidad_de_unidades:')\n",
    "print(type(cantidad_de_unidades))"
   ]
  },
  {
   "cell_type": "markdown",
   "metadata": {},
   "source": [
    "### Convertir de string (str) a integer (int) - 10m"
   ]
  },
  {
   "cell_type": "code",
   "execution_count": 18,
   "metadata": {},
   "outputs": [
    {
     "name": "stdout",
     "output_type": "stream",
     "text": [
      "4\n",
      "<class 'int'>\n"
     ]
    }
   ],
   "source": [
    "cantidad_de_unidades = input(\"Cuántas unidades desea? (otra vez 😝)\")\n",
    "cantidad_de_unidades = int(cantidad_de_unidades)\n",
    "\n",
    "print(cantidad_de_unidades)\n",
    "print(type(cantidad_de_unidades))"
   ]
  },
  {
   "cell_type": "markdown",
   "metadata": {},
   "source": [
    "### Challenge 🤺 - 15m\n",
    "\n",
    "Solicitar al usuario ingresar dos números y almacenarlos en dos variables. Luego, imprimir la suma de los dos números."
   ]
  },
  {
   "cell_type": "markdown",
   "metadata": {},
   "source": [
    "# Funciones - 2h 30m"
   ]
  },
  {
   "cell_type": "markdown",
   "metadata": {},
   "source": [
    "## Definición y DRY - 20m\n",
    "\n",
    "\n",
    "\n",
    "\n",
    "Las funciones son un conjunto de instrucciones de una operacion que quisieramos volver a repetir en diferentes partes de nuestro programa. \n",
    "\n",
    "Las funciones existen para permitirnos re utilizar codigo que ya escribimos anteriormente, sin la necesidad de volver a escribirlo. \n",
    "\n",
    "\n",
    "Ya estuvimos trabajando con funciones como type(), print(). \n",
    "\n",
    "\n",
    "Por ejemplo nosotros podemos construir la funcion saludo, y ahorrarnos escribir el saludo en 3 idiomas, las veces que lo queramos. \n",
    "\n",
    "\n",
    "Otro ejemplo como funciona un lavarropas. El lavarropas siempre cumple los mismos pasos ya pre definidos que se necesitan para lavar correctamente las prendas. Basta con encenderlo para que empiece ejecutar las instrucciones que debe."
   ]
  },
  {
   "cell_type": "code",
   "execution_count": 1,
   "metadata": {},
   "outputs": [
    {
     "name": "stdout",
     "output_type": "stream",
     "text": [
      "Hola, soy una función\n",
      "Hola mundo\n",
      "Hello World\n",
      "Maitei arapy\n",
      "hacer la lista de compras\n",
      "poner el tomate\n",
      "amazar la pizza\n",
      "poner 20 minutos en el horno\n"
     ]
    }
   ],
   "source": [
    "# Se puede revisar utilizar la pagina Python tutor https://pythontutor.com/ \n",
    "# Extension para que se vea el identado https://marketplace.visualstudio.com/items?itemName=oderwat.indent-rainbow \n",
    "\n",
    "#🙌 Explicar que es un bloque y que es un identado \n",
    "\n",
    "\n",
    "# Función saludar\n",
    "\n",
    "def saludar(): #definimos la funcion saludar, con el nombre 'saludar', y la sintaxis considera dos puntos\n",
    "    print(\"Hola, soy una función\") #dentro de la funcion saludar, imprimimos el texto \"Hola, soy una funcion\"\n",
    "saludar() #llamamos a la funcion saludar, para que se ejecute el codigo que esta dentro de la funcion\n",
    "\n",
    "def saludar_idiomas():\n",
    "    print('Hola mundo') #en espanhol\n",
    "    print('Hello World') #en ingles\n",
    "    print('Maitei arapy') #en guarani \n",
    "saludar_idiomas() #llamamos a la funcion saludar_idiomas, para que se ejecute el codigo que esta dentro de la funcion\n",
    "\n",
    "\n",
    "# Función con texto, funcionamiento o pasos para realizar una pizza los pasos a las chicas  hacer interactivo \n",
    "\n",
    "def cocinar_pizza(): # Nombramos nuestra función\n",
    "    # Aqui van los procesos (o pasos) de la función\n",
    "    # Se introduce la indentación\n",
    "    print(\"hacer la lista de compras\")\n",
    "    print(\"poner el tomate\")\n",
    "    print(\"amazar la pizza\")\n",
    "    print(\"poner 20 minutos en el horno\")\n",
    "    \n",
    "# Activamos el modo cocinar pizza\n",
    "cocinar_pizza()  "
   ]
  },
  {
   "cell_type": "markdown",
   "metadata": {},
   "source": [
    "## Challenge 🤺 - 15m\n",
    "\n",
    "Crear una función de un proceso que se les ocurra que tenga varios pasos.\n",
    "Ejecutar la función 3 veces."
   ]
  },
  {
   "cell_type": "markdown",
   "metadata": {},
   "source": [
    "## Socialización - 10m"
   ]
  },
  {
   "cell_type": "markdown",
   "metadata": {},
   "source": [
    "## Parámetros y argumentos - 20m\n",
    "\n",
    "A veces queremos ejecutar \"casi\" la misma función varias veces. Por ejemplo, si somos vendedores de autos..."
   ]
  },
  {
   "cell_type": "code",
   "execution_count": 11,
   "metadata": {},
   "outputs": [
    {
     "name": "stdout",
     "output_type": "stream",
     "text": [
      "Pedir un lavarropas de la marca midas\n",
      "pagar\n",
      "Pedir un lavarropas de la marca tokyo\n",
      "pagar\n"
     ]
    }
   ],
   "source": [
    "def comprar_lavarropas(marca): # Parámetro\n",
    "\n",
    "    print(f\"Pedir un lavarropas de la marca {marca}\" )\n",
    "    print(\"pagar\")\n",
    "\n",
    "comprar_lavarropas(\"midas\")# Llamada con argumento\n",
    "comprar_lavarropas(\"tokyo\")# Llamada con argumento\n",
    "# ----------------------------------------------------------\n",
    "\n",
    "## Podemos pasar varios parametros\n",
    "# obs agregar parametro --instrucciones\n",
    "# def marca_lavarropas(marca, kg, metodo_de_pago):\n",
    "#    print(\"Voy a utilizar un lavarropas de la marca \" + marca + \" de \" + kg + \"Kg\" )\n",
    "#    print(\"voy a pagar con \" + metodo_de_pago)\n",
    "\n",
    "# marca_lavarropas(\"midas\", 6, \"efectivo\")# Llamada con argumento\n",
    "# marca_lavarropas(\"tokyo\", 16, \"tarjeta\")# Llamada con argumento"
   ]
  },
  {
   "cell_type": "markdown",
   "metadata": {},
   "source": [
    "## Challenge 🤺 - 15m\n",
    "\n",
    "Dada la función que acabamos de crear, definir un parametro mas sobre el lavarropas que quiere comprar y concatenar."
   ]
  },
  {
   "cell_type": "markdown",
   "metadata": {},
   "source": [
    "## Socialización - 10m"
   ]
  },
  {
   "cell_type": "markdown",
   "metadata": {},
   "source": [
    "## Función personalizada vs función built-in - 10m\n",
    "\n",
    "Explicar que python también trae funciones pre-definidas"
   ]
  },
  {
   "cell_type": "code",
   "execution_count": 34,
   "metadata": {},
   "outputs": [
    {
     "name": "stdout",
     "output_type": "stream",
     "text": [
      "Voy a utilizar un lavarropas de la marca midas\n",
      "Este texto se muestra en la pantalla\n"
     ]
    }
   ],
   "source": [
    "# Funciones que creamos nosotros\n",
    "comprar_lavarropas(\"midas\")\n",
    "# Funciones predefinidas de python\n",
    "print(\"Este texto se muestra en la pantalla\")"
   ]
  },
  {
   "cell_type": "markdown",
   "metadata": {},
   "source": [
    "## Alcance (Scope) - 20m\n",
    "\n",
    "Qué pasa si con una función, queremos modificar una variable que declaramos más arriba?"
   ]
  },
  {
   "cell_type": "code",
   "execution_count": 1,
   "metadata": {},
   "outputs": [
    {
     "name": "stdout",
     "output_type": "stream",
     "text": [
      "mi lavarropas es de 14 kg\n",
      "mi lavarropas es de 10 kg\n",
      "este es mi perro perro y este es mi gato michi\n"
     ]
    }
   ],
   "source": [
    "kg = 10 # Kg de un lavarropas\n",
    "\n",
    "def kg_lavarropas():\n",
    "    kg = 14 \n",
    "    print(f\"mi lavarropas es de {kg} kg\")\n",
    "\n",
    "    # global kg\n",
    "\n",
    "\n",
    "kg_lavarropas()\n",
    "\n",
    "\n",
    "print(f\"mi lavarropas es de {kg} kg\")\n",
    "\n",
    "\n",
    "nombre = 'perro'\n",
    "gato = 'michi'\n",
    "\n",
    "print(f\"este es mi perro {nombre} y este es mi gato {gato}\")"
   ]
  },
  {
   "cell_type": "markdown",
   "metadata": {},
   "source": [
    "## le quite el challenge "
   ]
  }
 ],
 "metadata": {
  "kernelspec": {
   "display_name": "Python 3.10.4 64-bit",
   "language": "python",
   "name": "python3"
  },
  "language_info": {
   "codemirror_mode": {
    "name": "ipython",
    "version": 3
   },
   "file_extension": ".py",
   "mimetype": "text/x-python",
   "name": "python",
   "nbconvert_exporter": "python",
   "pygments_lexer": "ipython3",
   "version": "3.10.4"
  },
  "orig_nbformat": 4,
  "vscode": {
   "interpreter": {
    "hash": "aee8b7b246df8f9039afb4144a1f6fd8d2ca17a180786b69acc140d282b71a49"
   }
  }
 },
 "nbformat": 4,
 "nbformat_minor": 2
}
